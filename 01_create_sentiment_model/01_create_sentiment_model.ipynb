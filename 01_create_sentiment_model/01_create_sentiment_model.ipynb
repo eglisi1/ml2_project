{
 "cells": [
  {
   "attachments": {},
   "cell_type": "markdown",
   "metadata": {},
   "source": [
    "# Train a Neural Network model for sentiment analysis with imdb dataset and keras"
   ]
  },
  {
   "attachments": {},
   "cell_type": "markdown",
   "metadata": {},
   "source": [
    "## Load properties"
   ]
  },
  {
   "cell_type": "code",
   "execution_count": null,
   "metadata": {},
   "outputs": [],
   "source": [
    "import yaml\n",
    "\n",
    "with open(\"../config/config.yaml\", \"r\") as f:\n",
    "    config = yaml.safe_load(f)\n",
    "\n",
    "with open(\"../config/model/basic.yaml\", \"r\") as f:\n",
    "    model_config = yaml.safe_load(f)"
   ]
  },
  {
   "attachments": {},
   "cell_type": "markdown",
   "metadata": {},
   "source": [
    "## Load the dataset"
   ]
  },
  {
   "cell_type": "code",
   "execution_count": null,
   "metadata": {},
   "outputs": [],
   "source": [
    "from keras.datasets import imdb\n",
    "import numpy as np\n",
    "\n",
    "num_words = config[\"num_words\"]\n",
    "\n",
    "(training_data, training_targets), (testing_data, testing_targets) = imdb.load_data(\n",
    "    num_words=num_words\n",
    ")\n",
    "data = np.concatenate((training_data, testing_data), axis=0)\n",
    "targets = np.concatenate((training_targets, testing_targets), axis=0)"
   ]
  },
  {
   "attachments": {},
   "cell_type": "markdown",
   "metadata": {},
   "source": [
    "## Analyze the dataset"
   ]
  },
  {
   "cell_type": "code",
   "execution_count": null,
   "metadata": {},
   "outputs": [],
   "source": [
    "print(f\"The output categories are {np.unique(targets)}\")\n",
    "print(f\"The number of unique words is {len(np.unique(np.hstack(data)))}\")"
   ]
  },
  {
   "attachments": {},
   "cell_type": "markdown",
   "metadata": {},
   "source": [
    "Visualize mean and sd"
   ]
  },
  {
   "cell_type": "code",
   "execution_count": null,
   "metadata": {},
   "outputs": [],
   "source": [
    "import matplotlib.pyplot as plt\n",
    "\n",
    "length = [len(i) for i in data]\n",
    "mean = np.mean(length)\n",
    "std = np.std(length)\n",
    "print(f\"The Average Review length is {mean}\")\n",
    "print(f\"The Standard Deviation is {std}\")\n",
    "\n",
    "# create histogram\n",
    "plt.hist(length, bins=10, alpha=0.5, color=\"g\")\n",
    "\n",
    "# add a vertical line for the mean\n",
    "plt.axvline(mean, color=\"blue\", linestyle=\"solid\", linewidth=2)\n",
    "\n",
    "# add vertical lines for one standard deviation above and below the mean\n",
    "plt.axvline(x=(mean + std), color=\"red\", linestyle=\"dashed\", linewidth=2)\n",
    "plt.axvline(x=(mean - std), color=\"red\", linestyle=\"dashed\", linewidth=2)\n",
    "\n",
    "plt.title(\"Histogram with Mean and Standard Deviation\")\n",
    "plt.show()"
   ]
  },
  {
   "attachments": {},
   "cell_type": "markdown",
   "metadata": {},
   "source": [
    "todo"
   ]
  },
  {
   "cell_type": "code",
   "execution_count": null,
   "metadata": {},
   "outputs": [],
   "source": [
    "index = imdb.get_word_index()\n",
    "reverse_index = dict([(value, key) for (key, value) in index.items()])\n",
    "decoded = \" \".join([reverse_index.get(i - 3, \"#\") for i in data[0]])\n",
    "print(decoded)"
   ]
  },
  {
   "attachments": {},
   "cell_type": "markdown",
   "metadata": {},
   "source": [
    "## Prepare data for training"
   ]
  },
  {
   "cell_type": "code",
   "execution_count": null,
   "metadata": {},
   "outputs": [],
   "source": [
    "def vectorize(sequences: np.ndarray, dimension=num_words) -> np.ndarray:\n",
    "    results = np.zeros((len(sequences), dimension))\n",
    "    for i, sequence in enumerate(sequences):\n",
    "        results[i, sequence] = 1\n",
    "    return results\n",
    "\n",
    "\n",
    "data = vectorize(data)\n",
    "targets = np.array(targets).astype(\"float32\")"
   ]
  },
  {
   "attachments": {},
   "cell_type": "markdown",
   "metadata": {},
   "source": [
    "Split data into train and test"
   ]
  },
  {
   "cell_type": "code",
   "execution_count": null,
   "metadata": {},
   "outputs": [],
   "source": [
    "from sklearn.model_selection import train_test_split\n",
    "\n",
    "test_size = model_config[\"model\"][\"training\"][\"test_size\"]\n",
    "random_state = model_config[\"model\"][\"training\"][\"random_state\"]\n",
    "\n",
    "train_x, test_x, train_Y, test_Y = train_test_split(data, targets, test_size=test_size, random_state=random_state)"
   ]
  },
  {
   "attachments": {},
   "cell_type": "markdown",
   "metadata": {},
   "source": [
    "## Build and traing the neuronal network"
   ]
  },
  {
   "attachments": {},
   "cell_type": "markdown",
   "metadata": {},
   "source": [
    "Create sequential model"
   ]
  },
  {
   "cell_type": "code",
   "execution_count": null,
   "metadata": {},
   "outputs": [],
   "source": [
    "from keras import models\n",
    "\n",
    "model = models.Sequential()"
   ]
  },
  {
   "cell_type": "code",
   "execution_count": null,
   "metadata": {},
   "outputs": [],
   "source": [
    "from keras import layers\n",
    "\n",
    "activation = model_config[\"model\"][\"training\"][\"activation_function\"]\n",
    "\n",
    "# Input - Layer\n",
    "model.add(layers.Dense(units=50, activation=activation, input_shape=(num_words,)))\n",
    "# Hidden - Layers\n",
    "model.add(layers.Dropout(rate=0.3, noise_shape=None, seed=None))\n",
    "model.add(layers.Dense(units=50, activation=activation))\n",
    "model.add(layers.Dropout(rate=0.2, noise_shape=None, seed=None))\n",
    "model.add(layers.Dense(units=50, activation=activation))\n",
    "# Output- Layer\n",
    "model.add(layers.Dense(units=1, activation=\"sigmoid\"))\n",
    "model.summary()"
   ]
  },
  {
   "attachments": {},
   "cell_type": "markdown",
   "metadata": {},
   "source": [
    "Compile the model"
   ]
  },
  {
   "cell_type": "code",
   "execution_count": null,
   "metadata": {},
   "outputs": [],
   "source": [
    "optimizer = model_config[\"model\"][\"compile\"][\"optimizer\"]\n",
    "loss = model_config[\"model\"][\"compile\"][\"loss_function\"]\n",
    "metrics = model_config[\"model\"][\"compile\"][\"metrics\"]\n",
    "\n",
    "model.compile(optimizer=optimizer, loss=loss, metrics=metrics)"
   ]
  },
  {
   "attachments": {},
   "cell_type": "markdown",
   "metadata": {},
   "source": [
    "Train the model"
   ]
  },
  {
   "cell_type": "code",
   "execution_count": null,
   "metadata": {},
   "outputs": [],
   "source": [
    "epochs = model_config[\"model\"][\"training\"][\"epochs\"]\n",
    "batch_size = model_config[\"model\"][\"training\"][\"batch_size\"]\n",
    "\n",
    "results = model.fit(\n",
    "    train_x, train_Y, epochs=epochs, batch_size=batch_size, validation_data=(test_x, test_Y)\n",
    ")"
   ]
  },
  {
   "attachments": {},
   "cell_type": "markdown",
   "metadata": {},
   "source": [
    "## Evalute the model"
   ]
  },
  {
   "cell_type": "code",
   "execution_count": null,
   "metadata": {},
   "outputs": [],
   "source": [
    "scores = model.evaluate(x=test_x, y=test_Y, verbose=0)\n",
    "print(f\"Accuracy: {scores[1]*100:.2f}%\")"
   ]
  },
  {
   "attachments": {},
   "cell_type": "markdown",
   "metadata": {},
   "source": [
    "## persist the model"
   ]
  },
  {
   "cell_type": "code",
   "execution_count": null,
   "metadata": {},
   "outputs": [],
   "source": [
    "import os\n",
    "\n",
    "filepath = os.path.join(\"..\", config[\"model_path\"], model_config[\"model\"][\"name\"])\n",
    "model.save(filepath=filepath, overwrite=True)"
   ]
  }
 ],
 "metadata": {
  "kernelspec": {
   "display_name": ".venv",
   "language": "python",
   "name": "python3"
  },
  "language_info": {
   "codemirror_mode": {
    "name": "ipython",
    "version": 3
   },
   "file_extension": ".py",
   "mimetype": "text/x-python",
   "name": "python",
   "nbconvert_exporter": "python",
   "pygments_lexer": "ipython3",
   "version": "3.11.2"
  },
  "orig_nbformat": 4
 },
 "nbformat": 4,
 "nbformat_minor": 2
}
