{
 "cells": [
  {
   "attachments": {},
   "cell_type": "markdown",
   "metadata": {},
   "source": [
    "# Train a Neural Network model for sentiment analysis with imdb dataset and keras"
   ]
  },
  {
   "attachments": {},
   "cell_type": "markdown",
   "metadata": {},
   "source": [
    "## Load properties"
   ]
  },
  {
   "cell_type": "code",
   "execution_count": 71,
   "metadata": {},
   "outputs": [],
   "source": [
    "import yaml\n",
    "\n",
    "with open(\"config.yaml\", \"r\") as f:\n",
    "    config = yaml.safe_load(f)"
   ]
  },
  {
   "attachments": {},
   "cell_type": "markdown",
   "metadata": {},
   "source": [
    "## Load the dataset"
   ]
  },
  {
   "cell_type": "code",
   "execution_count": 72,
   "metadata": {},
   "outputs": [],
   "source": [
    "from keras.datasets import imdb\n",
    "import numpy as np\n",
    "\n",
    "num_words = config[\"num_words\"]\n",
    "\n",
    "(training_data, training_targets), (testing_data, testing_targets) = imdb.load_data(\n",
    "    num_words=num_words\n",
    ")\n",
    "data = np.concatenate((training_data, testing_data), axis=0)\n",
    "targets = np.concatenate((training_targets, testing_targets), axis=0)"
   ]
  },
  {
   "attachments": {},
   "cell_type": "markdown",
   "metadata": {},
   "source": [
    "## Analyze the dataset"
   ]
  },
  {
   "cell_type": "code",
   "execution_count": 73,
   "metadata": {},
   "outputs": [
    {
     "name": "stdout",
     "output_type": "stream",
     "text": [
      "The output categories are [0 1]\n",
      "The number of unique words is 69418\n"
     ]
    }
   ],
   "source": [
    "print(f\"The output categories are {np.unique(targets)}\")\n",
    "print(f\"The number of unique words is {len(np.unique(np.hstack(data)))}\")"
   ]
  },
  {
   "attachments": {},
   "cell_type": "markdown",
   "metadata": {},
   "source": [
    "Visualize mean and sd"
   ]
  },
  {
   "cell_type": "code",
   "execution_count": 74,
   "metadata": {},
   "outputs": [
    {
     "name": "stdout",
     "output_type": "stream",
     "text": [
      "The Average Review length is 234.75892\n",
      "The Standard Deviation is 172.91149458735703\n"
     ]
    },
    {
     "data": {
      "image/png": "[encoded data removed]",
      "text/plain": [
       "<Figure size 640x480 with 1 Axes>"
      ]
     },
     "metadata": {},
     "output_type": "display_data"
    }
   ],
   "source": [
    "import matplotlib.pyplot as plt\n",
    "\n",
    "length = [len(i) for i in data]\n",
    "mean = np.mean(length)\n",
    "std = np.std(length)\n",
    "print(f\"The Average Review length is {mean}\")\n",
    "print(f\"The Standard Deviation is {std}\")\n",
    "\n",
    "# create histogram\n",
    "plt.hist(length, bins=10, alpha=0.5, color=\"g\")\n",
    "\n",
    "# add a vertical line for the mean\n",
    "plt.axvline(mean, color=\"blue\", linestyle=\"solid\", linewidth=2)\n",
    "\n",
    "# add vertical lines for one standard deviation above and below the mean\n",
    "plt.axvline(x=(mean + std), color=\"red\", linestyle=\"dashed\", linewidth=2)\n",
    "plt.axvline(x=(mean - std), color=\"red\", linestyle=\"dashed\", linewidth=2)\n",
    "\n",
    "plt.title(\"Histogram with Mean and Standard Deviation\")\n",
    "plt.show()"
   ]
  },
  {
   "attachments": {},
   "cell_type": "markdown",
   "metadata": {},
   "source": [
    "todo"
   ]
  },
  {
   "cell_type": "code",
   "execution_count": 75,
   "metadata": {},
   "outputs": [
    {
     "name": "stdout",
     "output_type": "stream",
     "text": [
      "# this film was just brilliant casting location scenery story direction everyone's really suited the part they played and you could just imagine being there robert redford's is an amazing actor and now the same being director norman's father came from the same scottish island as myself so i loved the fact there was a real connection with this film the witty remarks throughout the film were great it was just brilliant so much that i bought the film as soon as it was released for retail and would recommend it to everyone to watch and the fly fishing was amazing really cried at the end it was so sad and you know what they say if you cry at a film it must have been good and this definitely was also congratulations to the two little boy's that played the part's of norman and paul they were just brilliant children are often left out of the praising list i think because the stars that play them all grown up are such a big profile for the whole film but these children are amazing and should be praised for what they have done don't you think the whole story was so lovely because it was true and was someone's life after all that was shared with us all\n"
     ]
    }
   ],
   "source": [
    "index = imdb.get_word_index()\n",
    "reverse_index = dict([(value, key) for (key, value) in index.items()])\n",
    "decoded = \" \".join([reverse_index.get(i - 3, \"#\") for i in data[0]])\n",
    "print(decoded)"
   ]
  },
  {
   "attachments": {},
   "cell_type": "markdown",
   "metadata": {},
   "source": [
    "## Prepare data for training"
   ]
  },
  {
   "cell_type": "code",
   "execution_count": 76,
   "metadata": {},
   "outputs": [],
   "source": [
    "def vectorize(sequences: np.ndarray, dimension=num_words) -> np.ndarray:\n",
    "    results = np.zeros((len(sequences), dimension))\n",
    "    for i, sequence in enumerate(sequences):\n",
    "        results[i, sequence] = 1\n",
    "    return results\n",
    "\n",
    "\n",
    "data = vectorize(data)\n",
    "targets = np.array(targets).astype(\"float32\")"
   ]
  },
  {
   "attachments": {},
   "cell_type": "markdown",
   "metadata": {},
   "source": [
    "Split data into train and test"
   ]
  },
  {
   "cell_type": "code",
   "execution_count": 77,
   "metadata": {},
   "outputs": [],
   "source": [
    "from sklearn.model_selection import train_test_split\n",
    "\n",
    "test_size = config[\"model\"][\"training\"][\"test_size\"]\n",
    "random_state = config[\"model\"][\"training\"][\"random_state\"]\n",
    "\n",
    "train_x, test_x, train_Y, test_Y = train_test_split(data, targets, test_size=test_size, random_state=random_state)"
   ]
  },
  {
   "attachments": {},
   "cell_type": "markdown",
   "metadata": {},
   "source": [
    "## Build and traing the neuronal network"
   ]
  },
  {
   "attachments": {},
   "cell_type": "markdown",
   "metadata": {},
   "source": [
    "Create sequential model"
   ]
  },
  {
   "cell_type": "code",
   "execution_count": 78,
   "metadata": {},
   "outputs": [],
   "source": [
    "from keras import models\n",
    "\n",
    "model = models.Sequential()"
   ]
  },
  {
   "cell_type": "code",
   "execution_count": 79,
   "metadata": {},
   "outputs": [
    {
     "name": "stdout",
     "output_type": "stream",
     "text": [
      "Model: \"sequential_5\"\n",
      "_________________________________________________________________\n",
      " Layer (type)                Output Shape              Param #   \n",
      "=================================================================\n",
      " dense_20 (Dense)            (None, 50)                3471050   \n",
      "                                                                 \n",
      " dropout_10 (Dropout)        (None, 50)                0         \n",
      "                                                                 \n",
      " dense_21 (Dense)            (None, 50)                2550      \n",
      "                                                                 \n",
      " dropout_11 (Dropout)        (None, 50)                0         \n",
      "                                                                 \n",
      " dense_22 (Dense)            (None, 50)                2550      \n",
      "                                                                 \n",
      " dense_23 (Dense)            (None, 1)                 51        \n",
      "                                                                 \n",
      "=================================================================\n",
      "Total params: 3476201 (13.26 MB)\n",
      "Trainable params: 3476201 (13.26 MB)\n",
      "Non-trainable params: 0 (0.00 Byte)\n",
      "_________________________________________________________________\n"
     ]
    }
   ],
   "source": [
    "from keras import layers\n",
    "\n",
    "activation = config[\"model\"][\"training\"][\"activation_function\"]\n",
    "\n",
    "# Input - Layer\n",
    "model.add(layers.Dense(units=50, activation=activation, input_shape=(num_words,)))\n",
    "# Hidden - Layers\n",
    "model.add(layers.Dropout(rate=0.3, noise_shape=None, seed=None))\n",
    "model.add(layers.Dense(units=50, activation=activation))\n",
    "model.add(layers.Dropout(rate=0.2, noise_shape=None, seed=None))\n",
    "model.add(layers.Dense(units=50, activation=activation))\n",
    "# Output- Layer\n",
    "model.add(layers.Dense(units=1, activation=\"sigmoid\"))\n",
    "model.summary()"
   ]
  },
  {
   "attachments": {},
   "cell_type": "markdown",
   "metadata": {},
   "source": [
    "Compile the model"
   ]
  },
  {
   "cell_type": "code",
   "execution_count": 80,
   "metadata": {},
   "outputs": [],
   "source": [
    "optimizer = config[\"model\"][\"compile\"][\"optimizer\"]\n",
    "loss = config[\"model\"][\"compile\"][\"loss_function\"]\n",
    "metrics = config[\"model\"][\"compile\"][\"metrics\"]\n",
    "\n",
    "model.compile(optimizer=optimizer, loss=loss, metrics=metrics)"
   ]
  },
  {
   "attachments": {},
   "cell_type": "markdown",
   "metadata": {},
   "source": [
    "Train the model"
   ]
  },
  {
   "cell_type": "code",
   "execution_count": 81,
   "metadata": {},
   "outputs": [
    {
     "name": "stdout",
     "output_type": "stream",
     "text": [
      "Epoch 1/30\n",
      "1250/1250 [==============================] - 12s 9ms/step - loss: 0.3149 - accuracy: 0.8668 - val_loss: 0.2511 - val_accuracy: 0.8989\n",
      "Epoch 2/30\n",
      "1250/1250 [==============================] - 9s 7ms/step - loss: 0.1601 - accuracy: 0.9388 - val_loss: 0.2709 - val_accuracy: 0.9004\n",
      "Epoch 3/30\n",
      "1250/1250 [==============================] - 9s 7ms/step - loss: 0.0910 - accuracy: 0.9661 - val_loss: 0.3425 - val_accuracy: 0.8955\n",
      "Epoch 4/30\n",
      "1250/1250 [==============================] - 9s 7ms/step - loss: 0.0599 - accuracy: 0.9783 - val_loss: 0.4126 - val_accuracy: 0.8941\n",
      "Epoch 5/30\n",
      "1250/1250 [==============================] - 9s 7ms/step - loss: 0.0426 - accuracy: 0.9830 - val_loss: 0.5398 - val_accuracy: 0.8927\n",
      "Epoch 6/30\n",
      "1250/1250 [==============================] - 9s 7ms/step - loss: 0.0379 - accuracy: 0.9856 - val_loss: 0.5558 - val_accuracy: 0.8885\n",
      "Epoch 7/30\n",
      "1250/1250 [==============================] - 9s 8ms/step - loss: 0.0337 - accuracy: 0.9875 - val_loss: 0.4885 - val_accuracy: 0.8876\n",
      "Epoch 8/30\n",
      "1250/1250 [==============================] - 9s 7ms/step - loss: 0.0295 - accuracy: 0.9887 - val_loss: 0.6312 - val_accuracy: 0.8870\n",
      "Epoch 9/30\n",
      "1250/1250 [==============================] - 9s 7ms/step - loss: 0.0257 - accuracy: 0.9902 - val_loss: 0.6632 - val_accuracy: 0.8915\n",
      "Epoch 10/30\n",
      "1250/1250 [==============================] - 9s 7ms/step - loss: 0.0224 - accuracy: 0.9916 - val_loss: 0.6312 - val_accuracy: 0.8922\n",
      "Epoch 11/30\n",
      "1250/1250 [==============================] - 9s 7ms/step - loss: 0.0209 - accuracy: 0.9915 - val_loss: 0.6721 - val_accuracy: 0.8892\n",
      "Epoch 12/30\n",
      "1250/1250 [==============================] - 10s 8ms/step - loss: 0.0209 - accuracy: 0.9916 - val_loss: 0.7169 - val_accuracy: 0.8932\n",
      "Epoch 13/30\n",
      "1250/1250 [==============================] - 9s 7ms/step - loss: 0.0200 - accuracy: 0.9923 - val_loss: 0.7486 - val_accuracy: 0.8896\n",
      "Epoch 14/30\n",
      "1250/1250 [==============================] - 9s 7ms/step - loss: 0.0186 - accuracy: 0.9933 - val_loss: 0.7326 - val_accuracy: 0.8884\n",
      "Epoch 15/30\n",
      "1250/1250 [==============================] - 9s 7ms/step - loss: 0.0185 - accuracy: 0.9928 - val_loss: 0.6498 - val_accuracy: 0.8911\n",
      "Epoch 16/30\n",
      "1250/1250 [==============================] - 9s 7ms/step - loss: 0.0155 - accuracy: 0.9940 - val_loss: 0.7910 - val_accuracy: 0.8879\n",
      "Epoch 17/30\n",
      "1250/1250 [==============================] - 10s 8ms/step - loss: 0.0154 - accuracy: 0.9936 - val_loss: 0.8473 - val_accuracy: 0.8886\n",
      "Epoch 18/30\n",
      "1250/1250 [==============================] - 9s 7ms/step - loss: 0.0158 - accuracy: 0.9941 - val_loss: 0.6648 - val_accuracy: 0.8871\n",
      "Epoch 19/30\n",
      "1250/1250 [==============================] - 9s 7ms/step - loss: 0.0137 - accuracy: 0.9945 - val_loss: 0.8781 - val_accuracy: 0.8860\n",
      "Epoch 20/30\n",
      "1250/1250 [==============================] - 9s 7ms/step - loss: 0.0148 - accuracy: 0.9943 - val_loss: 0.9542 - val_accuracy: 0.8873\n",
      "Epoch 21/30\n",
      "1250/1250 [==============================] - 9s 7ms/step - loss: 0.0122 - accuracy: 0.9949 - val_loss: 0.8602 - val_accuracy: 0.8890\n",
      "Epoch 22/30\n",
      "1250/1250 [==============================] - 9s 8ms/step - loss: 0.0129 - accuracy: 0.9948 - val_loss: 0.7975 - val_accuracy: 0.8885\n",
      "Epoch 23/30\n",
      "1250/1250 [==============================] - 9s 7ms/step - loss: 0.0144 - accuracy: 0.9945 - val_loss: 0.8354 - val_accuracy: 0.8915\n",
      "Epoch 24/30\n",
      "1250/1250 [==============================] - 9s 7ms/step - loss: 0.0130 - accuracy: 0.9947 - val_loss: 0.6661 - val_accuracy: 0.8885\n",
      "Epoch 25/30\n",
      "1250/1250 [==============================] - 9s 7ms/step - loss: 0.0103 - accuracy: 0.9954 - val_loss: 0.8272 - val_accuracy: 0.8889\n",
      "Epoch 26/30\n",
      "1250/1250 [==============================] - 9s 7ms/step - loss: 0.0118 - accuracy: 0.9948 - val_loss: 0.8669 - val_accuracy: 0.8883\n",
      "Epoch 27/30\n",
      "1250/1250 [==============================] - 9s 7ms/step - loss: 0.0123 - accuracy: 0.9951 - val_loss: 0.9660 - val_accuracy: 0.8921\n",
      "Epoch 28/30\n",
      "1250/1250 [==============================] - 9s 7ms/step - loss: 0.0089 - accuracy: 0.9960 - val_loss: 0.9740 - val_accuracy: 0.8898\n",
      "Epoch 29/30\n",
      "1250/1250 [==============================] - 9s 8ms/step - loss: 0.0107 - accuracy: 0.9953 - val_loss: 0.9240 - val_accuracy: 0.8870\n",
      "Epoch 30/30\n",
      "1250/1250 [==============================] - 9s 7ms/step - loss: 0.0110 - accuracy: 0.9957 - val_loss: 0.7600 - val_accuracy: 0.8912\n"
     ]
    }
   ],
   "source": [
    "epochs = config[\"model\"][\"training\"][\"epochs\"]\n",
    "batch_size = config[\"model\"][\"training\"][\"batch_size\"]\n",
    "\n",
    "results = model.fit(\n",
    "    train_x, train_Y, epochs=epochs, batch_size=batch_size, validation_data=(test_x, test_Y)\n",
    ")"
   ]
  },
  {
   "attachments": {},
   "cell_type": "markdown",
   "metadata": {},
   "source": [
    "## Evalute the model"
   ]
  },
  {
   "cell_type": "code",
   "execution_count": 82,
   "metadata": {},
   "outputs": [
    {
     "name": "stdout",
     "output_type": "stream",
     "text": [
      "Accuracy: 89.12%\n"
     ]
    }
   ],
   "source": [
    "scores = model.evaluate(x=test_x, y=test_Y, verbose=0)\n",
    "print(f\"Accuracy: {scores[1]*100:.2f}%\")"
   ]
  },
  {
   "attachments": {},
   "cell_type": "markdown",
   "metadata": {},
   "source": [
    "## persist the model"
   ]
  },
  {
   "cell_type": "code",
   "execution_count": 83,
   "metadata": {},
   "outputs": [],
   "source": [
    "filepath = config[\"model\"][\"model_path\"]\n",
    "model.save(filepath=filepath, overwrite=True, include_optimizer=True)"
   ]
  }
 ],
 "metadata": {
  "kernelspec": {
   "display_name": ".venv",
   "language": "python",
   "name": "python3"
  },
  "language_info": {
   "codemirror_mode": {
    "name": "ipython",
    "version": 3
   },
   "file_extension": ".py",
   "mimetype": "text/x-python",
   "name": "python",
   "nbconvert_exporter": "python",
   "pygments_lexer": "ipython3",
   "version": "3.11.2"
  },
  "orig_nbformat": 4
 },
 "nbformat": 4,
 "nbformat_minor": 2
}
